{
 "cells": [
  {
   "cell_type": "markdown",
   "metadata": {},
   "source": [
    "# Tensorflow intro"
   ]
  },
  {
   "cell_type": "markdown",
   "metadata": {},
   "source": [
    "* [Официальная документация](https://www.tensorflow.org)\n",
    "* [Get started](https://www.tensorflow.org/get_started/get_started)\n",
    "* [Models](https://github.com/tensorflow/models/)\n",
    "\n",
    "Из-за быстроты развития лучше всего смотреть на официальную документацию."
   ]
  },
  {
   "cell_type": "markdown",
   "metadata": {},
   "source": [
    "## Установка"
   ]
  },
  {
   "cell_type": "markdown",
   "metadata": {},
   "source": [
    "Есть два типа установки: для CPU и GPU. Для CPU устанавливается стандартно через `pip`"
   ]
  },
  {
   "cell_type": "code",
   "execution_count": null,
   "metadata": {
    "collapsed": true
   },
   "outputs": [],
   "source": [
    "!pip install tensorflow"
   ]
  },
  {
   "cell_type": "markdown",
   "metadata": {},
   "source": [
    "Для GPU немного сложнее \n",
    "* проверить совместимость с видеокартой. Параметр CUDA Compute Capability должен быть больше 3.0\n",
    "* Установить CUDA Toolkit восьмой версии\n",
    "* Установить cuDNN версии 5.1\n",
    "* Установить из pip пакет tensorflow-gpu\n",
    "\n",
    "Можно установить через Docker. Можно и из исходников (говорят, что так рабоатет быстрее, потому что он не тянет кучу плюшек к себе)."
   ]
  },
  {
   "cell_type": "markdown",
   "metadata": {},
   "source": [
    "## Базовые элементы"
   ]
  },
  {
   "cell_type": "markdown",
   "metadata": {},
   "source": [
    "Самый простой код, с помощью которого легко убедиться, что все работает."
   ]
  },
  {
   "cell_type": "code",
   "execution_count": 5,
   "metadata": {},
   "outputs": [
    {
     "name": "stdout",
     "output_type": "stream",
     "text": [
      "b'Hello, TensorFlow!'\n"
     ]
    }
   ],
   "source": [
    "import tensorflow as tf # подключаем TF\n",
    "hello = tf.constant('Hello, TensorFlow!') # создаем объект из TF\n",
    "sess = tf.InteractiveSession() # создаем сессию\n",
    "print(sess.run(hello)) #сессия \"выполняет\" объект"
   ]
  },
  {
   "cell_type": "code",
   "execution_count": null,
   "metadata": {
    "collapsed": true
   },
   "outputs": [],
   "source": []
  }
 ],
 "metadata": {
  "kernelspec": {
   "display_name": "Python 3",
   "language": "python",
   "name": "python3"
  },
  "language_info": {
   "codemirror_mode": {
    "name": "ipython",
    "version": 3
   },
   "file_extension": ".py",
   "mimetype": "text/x-python",
   "name": "python",
   "nbconvert_exporter": "python",
   "pygments_lexer": "ipython3",
   "version": "3.6.1"
  }
 },
 "nbformat": 4,
 "nbformat_minor": 2
}
