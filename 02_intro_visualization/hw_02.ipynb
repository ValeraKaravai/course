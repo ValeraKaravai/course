{
 "cells": [
  {
   "cell_type": "code",
   "execution_count": 5,
   "metadata": {
    "collapsed": true
   },
   "outputs": [],
   "source": [
    "import warnings\n",
    "warnings.simplefilter('ignore')\n",
    "import pandas as pd\n",
    "\n",
    "%matplotlib inline\n",
    "import seaborn as sns\n",
    "import matplotlib.pyplot as plt"
   ]
  },
  {
   "cell_type": "markdown",
   "metadata": {},
   "source": [
    "# Загрузка данных"
   ]
  },
  {
   "cell_type": "code",
   "execution_count": 2,
   "metadata": {},
   "outputs": [
    {
     "data": {
      "text/html": [
       "<div>\n",
       "<table border=\"1\" class=\"dataframe\">\n",
       "  <thead>\n",
       "    <tr style=\"text-align: right;\">\n",
       "      <th></th>\n",
       "      <th>0</th>\n",
       "      <th>1</th>\n",
       "      <th>2</th>\n",
       "      <th>3</th>\n",
       "      <th>4</th>\n",
       "    </tr>\n",
       "  </thead>\n",
       "  <tbody>\n",
       "    <tr>\n",
       "      <th>url</th>\n",
       "      <td>https://habrahabr.ru/post/18284/</td>\n",
       "      <td>https://habrahabr.ru/post/18285/</td>\n",
       "      <td>https://habrahabr.ru/post/18286/</td>\n",
       "      <td>https://habrahabr.ru/post/18291/</td>\n",
       "      <td>https://geektimes.ru/post/18294/</td>\n",
       "    </tr>\n",
       "    <tr>\n",
       "      <th>domain</th>\n",
       "      <td>habrahabr.ru</td>\n",
       "      <td>habrahabr.ru</td>\n",
       "      <td>habrahabr.ru</td>\n",
       "      <td>habrahabr.ru</td>\n",
       "      <td>geektimes.ru</td>\n",
       "    </tr>\n",
       "    <tr>\n",
       "      <th>post_id</th>\n",
       "      <td>18284</td>\n",
       "      <td>18285</td>\n",
       "      <td>18286</td>\n",
       "      <td>18291</td>\n",
       "      <td>18294</td>\n",
       "    </tr>\n",
       "    <tr>\n",
       "      <th>published</th>\n",
       "      <td>2008-01-01 18:19:00</td>\n",
       "      <td>2008-01-01 18:30:00</td>\n",
       "      <td>2008-01-01 18:34:00</td>\n",
       "      <td>2008-01-02 01:32:00</td>\n",
       "      <td>2008-01-02 14:34:00</td>\n",
       "    </tr>\n",
       "    <tr>\n",
       "      <th>author</th>\n",
       "      <td>@Tapac</td>\n",
       "      <td>@DezmASter</td>\n",
       "      <td>@DezmASter</td>\n",
       "      <td>@Taoorus</td>\n",
       "      <td>@dennydo</td>\n",
       "    </tr>\n",
       "    <tr>\n",
       "      <th>flow</th>\n",
       "      <td>develop</td>\n",
       "      <td>design</td>\n",
       "      <td>design</td>\n",
       "      <td>design</td>\n",
       "      <td>NaN</td>\n",
       "    </tr>\n",
       "    <tr>\n",
       "      <th>polling</th>\n",
       "      <td>False</td>\n",
       "      <td>False</td>\n",
       "      <td>False</td>\n",
       "      <td>False</td>\n",
       "      <td>False</td>\n",
       "    </tr>\n",
       "    <tr>\n",
       "      <th>content_len</th>\n",
       "      <td>4305</td>\n",
       "      <td>7344</td>\n",
       "      <td>8431</td>\n",
       "      <td>5662</td>\n",
       "      <td>3706</td>\n",
       "    </tr>\n",
       "    <tr>\n",
       "      <th>title</th>\n",
       "      <td>Новогодний подарок блоггерам — WordPress 2.3.2</td>\n",
       "      <td>Сумасшедшие яйца, или сервис для отслеживания ...</td>\n",
       "      <td>Сумасшедшие яйца, или сервис для отслеживания ...</td>\n",
       "      <td>Сглаживание шрифтов, и субпиксельная отрисовка</td>\n",
       "      <td>Почему мне не нравится iPhone</td>\n",
       "    </tr>\n",
       "    <tr>\n",
       "      <th>comments</th>\n",
       "      <td>0</td>\n",
       "      <td>1</td>\n",
       "      <td>47</td>\n",
       "      <td>102</td>\n",
       "      <td>230</td>\n",
       "    </tr>\n",
       "    <tr>\n",
       "      <th>favs</th>\n",
       "      <td>0</td>\n",
       "      <td>1</td>\n",
       "      <td>72</td>\n",
       "      <td>36</td>\n",
       "      <td>6</td>\n",
       "    </tr>\n",
       "    <tr>\n",
       "      <th>views</th>\n",
       "      <td>236</td>\n",
       "      <td>353</td>\n",
       "      <td>1200</td>\n",
       "      <td>5700</td>\n",
       "      <td>1400</td>\n",
       "    </tr>\n",
       "    <tr>\n",
       "      <th>votes_plus</th>\n",
       "      <td>0</td>\n",
       "      <td>1</td>\n",
       "      <td>45</td>\n",
       "      <td>72</td>\n",
       "      <td>73</td>\n",
       "    </tr>\n",
       "    <tr>\n",
       "      <th>votes_minus</th>\n",
       "      <td>0</td>\n",
       "      <td>0</td>\n",
       "      <td>5</td>\n",
       "      <td>3</td>\n",
       "      <td>15</td>\n",
       "    </tr>\n",
       "    <tr>\n",
       "      <th>views_lognorm</th>\n",
       "      <td>-0.792687</td>\n",
       "      <td>-0.485214</td>\n",
       "      <td>0.44609</td>\n",
       "      <td>1.62747</td>\n",
       "      <td>1.3624</td>\n",
       "    </tr>\n",
       "    <tr>\n",
       "      <th>favs_lognorm</th>\n",
       "      <td>-1.34407</td>\n",
       "      <td>-0.831946</td>\n",
       "      <td>1.79402</td>\n",
       "      <td>1.30005</td>\n",
       "      <td>0.961094</td>\n",
       "    </tr>\n",
       "    <tr>\n",
       "      <th>comments_lognorm</th>\n",
       "      <td>-2.43687</td>\n",
       "      <td>-1.87319</td>\n",
       "      <td>0.574656</td>\n",
       "      <td>1.16738</td>\n",
       "      <td>2.02036</td>\n",
       "    </tr>\n",
       "  </tbody>\n",
       "</table>\n",
       "</div>"
      ],
      "text/plain": [
       "                                                               0  \\\n",
       "url                             https://habrahabr.ru/post/18284/   \n",
       "domain                                              habrahabr.ru   \n",
       "post_id                                                    18284   \n",
       "published                                    2008-01-01 18:19:00   \n",
       "author                                                    @Tapac   \n",
       "flow                                                     develop   \n",
       "polling                                                    False   \n",
       "content_len                                                 4305   \n",
       "title             Новогодний подарок блоггерам — WordPress 2.3.2   \n",
       "comments                                                       0   \n",
       "favs                                                           0   \n",
       "views                                                        236   \n",
       "votes_plus                                                     0   \n",
       "votes_minus                                                    0   \n",
       "views_lognorm                                          -0.792687   \n",
       "favs_lognorm                                            -1.34407   \n",
       "comments_lognorm                                        -2.43687   \n",
       "\n",
       "                                                                  1  \\\n",
       "url                                https://habrahabr.ru/post/18285/   \n",
       "domain                                                 habrahabr.ru   \n",
       "post_id                                                       18285   \n",
       "published                                       2008-01-01 18:30:00   \n",
       "author                                                   @DezmASter   \n",
       "flow                                                         design   \n",
       "polling                                                       False   \n",
       "content_len                                                    7344   \n",
       "title             Сумасшедшие яйца, или сервис для отслеживания ...   \n",
       "comments                                                          1   \n",
       "favs                                                              1   \n",
       "views                                                           353   \n",
       "votes_plus                                                        1   \n",
       "votes_minus                                                       0   \n",
       "views_lognorm                                             -0.485214   \n",
       "favs_lognorm                                              -0.831946   \n",
       "comments_lognorm                                           -1.87319   \n",
       "\n",
       "                                                                  2  \\\n",
       "url                                https://habrahabr.ru/post/18286/   \n",
       "domain                                                 habrahabr.ru   \n",
       "post_id                                                       18286   \n",
       "published                                       2008-01-01 18:34:00   \n",
       "author                                                   @DezmASter   \n",
       "flow                                                         design   \n",
       "polling                                                       False   \n",
       "content_len                                                    8431   \n",
       "title             Сумасшедшие яйца, или сервис для отслеживания ...   \n",
       "comments                                                         47   \n",
       "favs                                                             72   \n",
       "views                                                          1200   \n",
       "votes_plus                                                       45   \n",
       "votes_minus                                                       5   \n",
       "views_lognorm                                               0.44609   \n",
       "favs_lognorm                                                1.79402   \n",
       "comments_lognorm                                           0.574656   \n",
       "\n",
       "                                                               3  \\\n",
       "url                             https://habrahabr.ru/post/18291/   \n",
       "domain                                              habrahabr.ru   \n",
       "post_id                                                    18291   \n",
       "published                                    2008-01-02 01:32:00   \n",
       "author                                                  @Taoorus   \n",
       "flow                                                      design   \n",
       "polling                                                    False   \n",
       "content_len                                                 5662   \n",
       "title             Сглаживание шрифтов, и субпиксельная отрисовка   \n",
       "comments                                                     102   \n",
       "favs                                                          36   \n",
       "views                                                       5700   \n",
       "votes_plus                                                    72   \n",
       "votes_minus                                                    3   \n",
       "views_lognorm                                            1.62747   \n",
       "favs_lognorm                                             1.30005   \n",
       "comments_lognorm                                         1.16738   \n",
       "\n",
       "                                                 4  \n",
       "url               https://geektimes.ru/post/18294/  \n",
       "domain                                geektimes.ru  \n",
       "post_id                                      18294  \n",
       "published                      2008-01-02 14:34:00  \n",
       "author                                    @dennydo  \n",
       "flow                                           NaN  \n",
       "polling                                      False  \n",
       "content_len                                   3706  \n",
       "title                Почему мне не нравится iPhone  \n",
       "comments                                       230  \n",
       "favs                                             6  \n",
       "views                                         1400  \n",
       "votes_plus                                      73  \n",
       "votes_minus                                     15  \n",
       "views_lognorm                               1.3624  \n",
       "favs_lognorm                              0.961094  \n",
       "comments_lognorm                           2.02036  "
      ]
     },
     "execution_count": 2,
     "metadata": {},
     "output_type": "execute_result"
    }
   ],
   "source": [
    "df = pd.read_csv('../data/howpop_train.csv')\n",
    "df.head().T"
   ]
  },
  {
   "cell_type": "code",
   "execution_count": 3,
   "metadata": {},
   "outputs": [
    {
     "name": "stdout",
     "output_type": "stream",
     "text": [
      "<class 'pandas.core.frame.DataFrame'>\n",
      "RangeIndex: 134137 entries, 0 to 134136\n",
      "Data columns (total 17 columns):\n",
      "url                 134137 non-null object\n",
      "domain              134137 non-null object\n",
      "post_id             134137 non-null int64\n",
      "published           134137 non-null object\n",
      "author              97657 non-null object\n",
      "flow                97048 non-null object\n",
      "polling             134137 non-null bool\n",
      "content_len         134137 non-null int64\n",
      "title               134137 non-null object\n",
      "comments            134137 non-null int64\n",
      "favs                134137 non-null int64\n",
      "views               134137 non-null int64\n",
      "votes_plus          133566 non-null float64\n",
      "votes_minus         133566 non-null float64\n",
      "views_lognorm       134137 non-null float64\n",
      "favs_lognorm        134137 non-null float64\n",
      "comments_lognorm    134137 non-null float64\n",
      "dtypes: bool(1), float64(5), int64(5), object(6)\n",
      "memory usage: 16.5+ MB\n"
     ]
    }
   ],
   "source": [
    "df.info()"
   ]
  },
  {
   "cell_type": "markdown",
   "metadata": {},
   "source": [
    "Есть фичи с na (author/ flow). Уберем колонки с lognorm"
   ]
  },
  {
   "cell_type": "code",
   "execution_count": 4,
   "metadata": {
    "collapsed": true
   },
   "outputs": [],
   "source": [
    "df.drop(filter(lambda c: c.endswith('_lognorm'), df.columns), axis = 1, inplace=True)\n",
    "#inplace - избавляет от необходимости сохранят датасет"
   ]
  },
  {
   "cell_type": "code",
   "execution_count": 5,
   "metadata": {},
   "outputs": [
    {
     "data": {
      "text/html": [
       "<div>\n",
       "<table border=\"1\" class=\"dataframe\">\n",
       "  <thead>\n",
       "    <tr style=\"text-align: right;\">\n",
       "      <th></th>\n",
       "      <th>0</th>\n",
       "      <th>1</th>\n",
       "      <th>2</th>\n",
       "      <th>3</th>\n",
       "      <th>4</th>\n",
       "    </tr>\n",
       "  </thead>\n",
       "  <tbody>\n",
       "    <tr>\n",
       "      <th>url</th>\n",
       "      <td>https://habrahabr.ru/post/18284/</td>\n",
       "      <td>https://habrahabr.ru/post/18285/</td>\n",
       "      <td>https://habrahabr.ru/post/18286/</td>\n",
       "      <td>https://habrahabr.ru/post/18291/</td>\n",
       "      <td>https://geektimes.ru/post/18294/</td>\n",
       "    </tr>\n",
       "    <tr>\n",
       "      <th>domain</th>\n",
       "      <td>habrahabr.ru</td>\n",
       "      <td>habrahabr.ru</td>\n",
       "      <td>habrahabr.ru</td>\n",
       "      <td>habrahabr.ru</td>\n",
       "      <td>geektimes.ru</td>\n",
       "    </tr>\n",
       "    <tr>\n",
       "      <th>post_id</th>\n",
       "      <td>18284</td>\n",
       "      <td>18285</td>\n",
       "      <td>18286</td>\n",
       "      <td>18291</td>\n",
       "      <td>18294</td>\n",
       "    </tr>\n",
       "    <tr>\n",
       "      <th>published</th>\n",
       "      <td>2008-01-01 18:19:00</td>\n",
       "      <td>2008-01-01 18:30:00</td>\n",
       "      <td>2008-01-01 18:34:00</td>\n",
       "      <td>2008-01-02 01:32:00</td>\n",
       "      <td>2008-01-02 14:34:00</td>\n",
       "    </tr>\n",
       "    <tr>\n",
       "      <th>author</th>\n",
       "      <td>@Tapac</td>\n",
       "      <td>@DezmASter</td>\n",
       "      <td>@DezmASter</td>\n",
       "      <td>@Taoorus</td>\n",
       "      <td>@dennydo</td>\n",
       "    </tr>\n",
       "    <tr>\n",
       "      <th>flow</th>\n",
       "      <td>develop</td>\n",
       "      <td>design</td>\n",
       "      <td>design</td>\n",
       "      <td>design</td>\n",
       "      <td>NaN</td>\n",
       "    </tr>\n",
       "    <tr>\n",
       "      <th>polling</th>\n",
       "      <td>False</td>\n",
       "      <td>False</td>\n",
       "      <td>False</td>\n",
       "      <td>False</td>\n",
       "      <td>False</td>\n",
       "    </tr>\n",
       "    <tr>\n",
       "      <th>content_len</th>\n",
       "      <td>4305</td>\n",
       "      <td>7344</td>\n",
       "      <td>8431</td>\n",
       "      <td>5662</td>\n",
       "      <td>3706</td>\n",
       "    </tr>\n",
       "    <tr>\n",
       "      <th>title</th>\n",
       "      <td>Новогодний подарок блоггерам — WordPress 2.3.2</td>\n",
       "      <td>Сумасшедшие яйца, или сервис для отслеживания ...</td>\n",
       "      <td>Сумасшедшие яйца, или сервис для отслеживания ...</td>\n",
       "      <td>Сглаживание шрифтов, и субпиксельная отрисовка</td>\n",
       "      <td>Почему мне не нравится iPhone</td>\n",
       "    </tr>\n",
       "    <tr>\n",
       "      <th>comments</th>\n",
       "      <td>0</td>\n",
       "      <td>1</td>\n",
       "      <td>47</td>\n",
       "      <td>102</td>\n",
       "      <td>230</td>\n",
       "    </tr>\n",
       "    <tr>\n",
       "      <th>favs</th>\n",
       "      <td>0</td>\n",
       "      <td>1</td>\n",
       "      <td>72</td>\n",
       "      <td>36</td>\n",
       "      <td>6</td>\n",
       "    </tr>\n",
       "    <tr>\n",
       "      <th>views</th>\n",
       "      <td>236</td>\n",
       "      <td>353</td>\n",
       "      <td>1200</td>\n",
       "      <td>5700</td>\n",
       "      <td>1400</td>\n",
       "    </tr>\n",
       "    <tr>\n",
       "      <th>votes_plus</th>\n",
       "      <td>0</td>\n",
       "      <td>1</td>\n",
       "      <td>45</td>\n",
       "      <td>72</td>\n",
       "      <td>73</td>\n",
       "    </tr>\n",
       "    <tr>\n",
       "      <th>votes_minus</th>\n",
       "      <td>0</td>\n",
       "      <td>0</td>\n",
       "      <td>5</td>\n",
       "      <td>3</td>\n",
       "      <td>15</td>\n",
       "    </tr>\n",
       "  </tbody>\n",
       "</table>\n",
       "</div>"
      ],
      "text/plain": [
       "                                                          0  \\\n",
       "url                        https://habrahabr.ru/post/18284/   \n",
       "domain                                         habrahabr.ru   \n",
       "post_id                                               18284   \n",
       "published                               2008-01-01 18:19:00   \n",
       "author                                               @Tapac   \n",
       "flow                                                develop   \n",
       "polling                                               False   \n",
       "content_len                                            4305   \n",
       "title        Новогодний подарок блоггерам — WordPress 2.3.2   \n",
       "comments                                                  0   \n",
       "favs                                                      0   \n",
       "views                                                   236   \n",
       "votes_plus                                                0   \n",
       "votes_minus                                               0   \n",
       "\n",
       "                                                             1  \\\n",
       "url                           https://habrahabr.ru/post/18285/   \n",
       "domain                                            habrahabr.ru   \n",
       "post_id                                                  18285   \n",
       "published                                  2008-01-01 18:30:00   \n",
       "author                                              @DezmASter   \n",
       "flow                                                    design   \n",
       "polling                                                  False   \n",
       "content_len                                               7344   \n",
       "title        Сумасшедшие яйца, или сервис для отслеживания ...   \n",
       "comments                                                     1   \n",
       "favs                                                         1   \n",
       "views                                                      353   \n",
       "votes_plus                                                   1   \n",
       "votes_minus                                                  0   \n",
       "\n",
       "                                                             2  \\\n",
       "url                           https://habrahabr.ru/post/18286/   \n",
       "domain                                            habrahabr.ru   \n",
       "post_id                                                  18286   \n",
       "published                                  2008-01-01 18:34:00   \n",
       "author                                              @DezmASter   \n",
       "flow                                                    design   \n",
       "polling                                                  False   \n",
       "content_len                                               8431   \n",
       "title        Сумасшедшие яйца, или сервис для отслеживания ...   \n",
       "comments                                                    47   \n",
       "favs                                                        72   \n",
       "views                                                     1200   \n",
       "votes_plus                                                  45   \n",
       "votes_minus                                                  5   \n",
       "\n",
       "                                                          3  \\\n",
       "url                        https://habrahabr.ru/post/18291/   \n",
       "domain                                         habrahabr.ru   \n",
       "post_id                                               18291   \n",
       "published                               2008-01-02 01:32:00   \n",
       "author                                             @Taoorus   \n",
       "flow                                                 design   \n",
       "polling                                               False   \n",
       "content_len                                            5662   \n",
       "title        Сглаживание шрифтов, и субпиксельная отрисовка   \n",
       "comments                                                102   \n",
       "favs                                                     36   \n",
       "views                                                  5700   \n",
       "votes_plus                                               72   \n",
       "votes_minus                                               3   \n",
       "\n",
       "                                            4  \n",
       "url          https://geektimes.ru/post/18294/  \n",
       "domain                           geektimes.ru  \n",
       "post_id                                 18294  \n",
       "published                 2008-01-02 14:34:00  \n",
       "author                               @dennydo  \n",
       "flow                                      NaN  \n",
       "polling                                 False  \n",
       "content_len                              3706  \n",
       "title           Почему мне не нравится iPhone  \n",
       "comments                                  230  \n",
       "favs                                        6  \n",
       "views                                    1400  \n",
       "votes_plus                                 73  \n",
       "votes_minus                                15  "
      ]
     },
     "execution_count": 5,
     "metadata": {},
     "output_type": "execute_result"
    }
   ],
   "source": [
    "df.head().T"
   ]
  },
  {
   "cell_type": "code",
   "execution_count": 6,
   "metadata": {},
   "outputs": [
    {
     "data": {
      "text/html": [
       "<div>\n",
       "<table border=\"1\" class=\"dataframe\">\n",
       "  <thead>\n",
       "    <tr style=\"text-align: right;\">\n",
       "      <th></th>\n",
       "      <th>count</th>\n",
       "      <th>unique</th>\n",
       "      <th>top</th>\n",
       "      <th>freq</th>\n",
       "    </tr>\n",
       "  </thead>\n",
       "  <tbody>\n",
       "    <tr>\n",
       "      <th>url</th>\n",
       "      <td>134137</td>\n",
       "      <td>134137</td>\n",
       "      <td>https://habrahabr.ru/post/109705/</td>\n",
       "      <td>1</td>\n",
       "    </tr>\n",
       "    <tr>\n",
       "      <th>domain</th>\n",
       "      <td>134137</td>\n",
       "      <td>2</td>\n",
       "      <td>habrahabr.ru</td>\n",
       "      <td>97048</td>\n",
       "    </tr>\n",
       "    <tr>\n",
       "      <th>published</th>\n",
       "      <td>134137</td>\n",
       "      <td>130291</td>\n",
       "      <td>2011-06-14 15:52:00</td>\n",
       "      <td>39</td>\n",
       "    </tr>\n",
       "    <tr>\n",
       "      <th>author</th>\n",
       "      <td>97657</td>\n",
       "      <td>22077</td>\n",
       "      <td>@alizar</td>\n",
       "      <td>5292</td>\n",
       "    </tr>\n",
       "    <tr>\n",
       "      <th>flow</th>\n",
       "      <td>97048</td>\n",
       "      <td>6</td>\n",
       "      <td>develop</td>\n",
       "      <td>53318</td>\n",
       "    </tr>\n",
       "    <tr>\n",
       "      <th>polling</th>\n",
       "      <td>134137</td>\n",
       "      <td>2</td>\n",
       "      <td>False</td>\n",
       "      <td>129412</td>\n",
       "    </tr>\n",
       "    <tr>\n",
       "      <th>title</th>\n",
       "      <td>134137</td>\n",
       "      <td>133628</td>\n",
       "      <td>Интересные события, произошедшие в выходные</td>\n",
       "      <td>56</td>\n",
       "    </tr>\n",
       "  </tbody>\n",
       "</table>\n",
       "</div>"
      ],
      "text/plain": [
       "            count  unique                                          top    freq\n",
       "url        134137  134137            https://habrahabr.ru/post/109705/       1\n",
       "domain     134137       2                                 habrahabr.ru   97048\n",
       "published  134137  130291                          2011-06-14 15:52:00      39\n",
       "author      97657   22077                                      @alizar    5292\n",
       "flow        97048       6                                      develop   53318\n",
       "polling    134137       2                                        False  129412\n",
       "title      134137  133628  Интересные события, произошедшие в выходные      56"
      ]
     },
     "execution_count": 6,
     "metadata": {},
     "output_type": "execute_result"
    }
   ],
   "source": [
    "df.describe(include = ['object', 'bool']).T"
   ]
  },
  {
   "cell_type": "code",
   "execution_count": 7,
   "metadata": {
    "collapsed": true
   },
   "outputs": [],
   "source": [
    "# настройка внешнего вида графиков в seaborn\n",
    "sns.set_style(\"dark\")\n",
    "sns.set_palette(\"RdBu\")\n",
    "sns.set_context(\"notebook\", font_scale = 1.5, \n",
    "                rc = { \"figure.figsize\" : (15, 5), \"axes.titlesize\" : 18 })"
   ]
  },
  {
   "cell_type": "markdown",
   "metadata": {},
   "source": [
    "## Новые столбцы"
   ]
  },
  {
   "cell_type": "code",
   "execution_count": 8,
   "metadata": {},
   "outputs": [
    {
     "name": "stdout",
     "output_type": "stream",
     "text": [
      "object\n",
      "datetime64[ns]\n"
     ]
    }
   ],
   "source": [
    "print(df.published.dtype)\n",
    "df['published'] = pd.to_datetime(df.published, yearfirst = True)\n",
    "print(df.published.dtype)"
   ]
  },
  {
   "cell_type": "code",
   "execution_count": 9,
   "metadata": {
    "collapsed": true
   },
   "outputs": [],
   "source": [
    "df['year'] = [d.year for d in df.published]\n",
    "df['month'] = [d.month for d in df.published]\n",
    "df['dayofweek'] = [d.isoweekday() for d in df.published]\n",
    "df['hour'] = [d.hour for d in df.published]\n",
    "df['day'] = [d.day for d in df.published]"
   ]
  },
  {
   "cell_type": "markdown",
   "metadata": {},
   "source": [
    "# В каком месяце (и какого года) было больше всего публикаций?"
   ]
  },
  {
   "cell_type": "code",
   "execution_count": 10,
   "metadata": {},
   "outputs": [
    {
     "data": {
      "text/html": [
       "<div>\n",
       "<table border=\"1\" class=\"dataframe\">\n",
       "  <thead>\n",
       "    <tr style=\"text-align: right;\">\n",
       "      <th></th>\n",
       "      <th></th>\n",
       "      <th>post_id</th>\n",
       "    </tr>\n",
       "    <tr>\n",
       "      <th>month</th>\n",
       "      <th>year</th>\n",
       "      <th></th>\n",
       "    </tr>\n",
       "  </thead>\n",
       "  <tbody>\n",
       "    <tr>\n",
       "      <th rowspan=\"2\" valign=\"top\">3</th>\n",
       "      <th>2015</th>\n",
       "      <td>2189</td>\n",
       "    </tr>\n",
       "    <tr>\n",
       "      <th>2016</th>\n",
       "      <td>2115</td>\n",
       "    </tr>\n",
       "    <tr>\n",
       "      <th>7</th>\n",
       "      <th>2015</th>\n",
       "      <td>2111</td>\n",
       "    </tr>\n",
       "    <tr>\n",
       "      <th>4</th>\n",
       "      <th>2015</th>\n",
       "      <td>2110</td>\n",
       "    </tr>\n",
       "    <tr>\n",
       "      <th>12</th>\n",
       "      <th>2015</th>\n",
       "      <td>2084</td>\n",
       "    </tr>\n",
       "  </tbody>\n",
       "</table>\n",
       "</div>"
      ],
      "text/plain": [
       "            post_id\n",
       "month year         \n",
       "3     2015     2189\n",
       "      2016     2115\n",
       "7     2015     2111\n",
       "4     2015     2110\n",
       "12    2015     2084"
      ]
     },
     "execution_count": 10,
     "metadata": {},
     "output_type": "execute_result"
    }
   ],
   "source": [
    "df.groupby(['month', 'year'])[['post_id']].count().sort_values('post_id', ascending=False).head()"
   ]
  },
  {
   "cell_type": "markdown",
   "metadata": {},
   "source": [
    "**Ответ: март, 2015**"
   ]
  },
  {
   "cell_type": "markdown",
   "metadata": {},
   "source": [
    "# Проанализируйте публикации в этом месяце"
   ]
  },
  {
   "cell_type": "markdown",
   "metadata": {},
   "source": [
    "Выберите один или несколько вариантов:\n",
    "* **На графике не заметны какие-либо выбросы или аномалии,**\n",
    "* Один или несколько дней сильно выделяются из общей картины,\n",
    "* На хабре всегда больше статей, чем на гиктаймсе,\n",
    "* **По субботам на гиктаймс и на хабрахабр публикуют примерно одинаковое число статей.**\n",
    "\n",
    "Подсказки: постройте график зависимости числа публикаций от дня; используйте параметр hue"
   ]
  },
  {
   "cell_type": "code",
   "execution_count": 11,
   "metadata": {},
   "outputs": [
    {
     "data": {
      "text/plain": [
       "2015-03    2189\n",
       "2016-03    2115\n",
       "2015-07    2111\n",
       "2015-04    2110\n",
       "2015-12    2084\n",
       "Name: mon_year, dtype: int64"
      ]
     },
     "execution_count": 11,
     "metadata": {},
     "output_type": "execute_result"
    }
   ],
   "source": [
    "df['mon_year'] = [str(d)[:7] for d in df.published]\n",
    "freq_mon_year = df.mon_year.value_counts()\n",
    "freq_mon_year.head()"
   ]
  },
  {
   "cell_type": "code",
   "execution_count": 12,
   "metadata": {},
   "outputs": [
    {
     "data": {
      "text/plain": [
       "'2015-03'"
      ]
     },
     "execution_count": 12,
     "metadata": {},
     "output_type": "execute_result"
    }
   ],
   "source": [
    "pop_mony = freq_mon_year.index[0]\n",
    "pop_mony"
   ]
  },
  {
   "cell_type": "code",
   "execution_count": 13,
   "metadata": {},
   "outputs": [
    {
     "data": {
      "text/plain": [
       "<matplotlib.axes._subplots.AxesSubplot at 0x10f85aeb8>"
      ]
     },
     "execution_count": 13,
     "metadata": {},
     "output_type": "execute_result"
    },
    {
     "data": {
      "image/png": "[encoded data removed]",
      "text/plain": [
       "<matplotlib.figure.Figure at 0x107c27710>"
      ]
     },
     "metadata": {},
     "output_type": "display_data"
    }
   ],
   "source": [
    "df_pop = df[df.mon_year == pop_mony]\n",
    "sns.countplot(x = 'day', data = df_pop)"
   ]
  },
  {
   "cell_type": "code",
   "execution_count": 14,
   "metadata": {},
   "outputs": [
    {
     "data": {
      "text/plain": [
       "<matplotlib.axes._subplots.AxesSubplot at 0x10e17db70>"
      ]
     },
     "execution_count": 14,
     "metadata": {},
     "output_type": "execute_result"
    },
    {
     "data": {
      "image/png": "[encoded data removed]",
      "text/plain": [
       "<matplotlib.figure.Figure at 0x10900eb38>"
      ]
     },
     "metadata": {},
     "output_type": "display_data"
    }
   ],
   "source": [
    "sns.countplot(x = 'day', hue='domain', data = df_pop)"
   ]
  },
  {
   "cell_type": "code",
   "execution_count": 15,
   "metadata": {},
   "outputs": [
    {
     "data": {
      "text/plain": [
       "<matplotlib.axes._subplots.AxesSubplot at 0x10fba2f98>"
      ]
     },
     "execution_count": 15,
     "metadata": {},
     "output_type": "execute_result"
    },
    {
     "data": {
      "image/png": "[encoded data removed]",
      "text/plain": [
       "<matplotlib.figure.Figure at 0x10fb41a20>"
      ]
     },
     "metadata": {},
     "output_type": "display_data"
    }
   ],
   "source": [
    "sns.countplot(x='dayofweek', hue='domain', data = df_pop)"
   ]
  },
  {
   "cell_type": "markdown",
   "metadata": {},
   "source": [
    "# Когда лучше всего публиковать статью"
   ]
  },
  {
   "cell_type": "markdown",
   "metadata": {},
   "source": [
    "* Больше всего просмотров набирают статьи, опубликованные в 12 часов дня;\n",
    "* **Больше всего просмотров набирают статьи, опубликованные в 6 часов утра;**\n",
    "* У опубликованных в 10 утра постов больше всего комментариев;\n",
    "* Максимальное число комментариев на гиктаймсе набрала статья, опубликованная в 10 утра."
   ]
  },
  {
   "cell_type": "code",
   "execution_count": 16,
   "metadata": {},
   "outputs": [
    {
     "data": {
      "text/plain": [
       "<matplotlib.axes._subplots.AxesSubplot at 0x11033c198>"
      ]
     },
     "execution_count": 16,
     "metadata": {},
     "output_type": "execute_result"
    },
    {
     "data": {
      "image/png": "[encoded data removed]",
      "text/plain": [
       "<matplotlib.figure.Figure at 0x114352550>"
      ]
     },
     "metadata": {},
     "output_type": "display_data"
    }
   ],
   "source": [
    "sns.barplot(x ='hour', y='views', data = df)"
   ]
  },
  {
   "cell_type": "code",
   "execution_count": 17,
   "metadata": {},
   "outputs": [
    {
     "data": {
      "text/html": [
       "<div>\n",
       "<table border=\"1\" class=\"dataframe\">\n",
       "  <thead>\n",
       "    <tr style=\"text-align: right;\">\n",
       "      <th></th>\n",
       "      <th>views</th>\n",
       "    </tr>\n",
       "    <tr>\n",
       "      <th>hour</th>\n",
       "      <th></th>\n",
       "    </tr>\n",
       "  </thead>\n",
       "  <tbody>\n",
       "    <tr>\n",
       "      <th>6</th>\n",
       "      <td>21354.310115</td>\n",
       "    </tr>\n",
       "    <tr>\n",
       "      <th>4</th>\n",
       "      <td>20678.389091</td>\n",
       "    </tr>\n",
       "    <tr>\n",
       "      <th>7</th>\n",
       "      <td>19093.953408</td>\n",
       "    </tr>\n",
       "    <tr>\n",
       "      <th>3</th>\n",
       "      <td>18370.017972</td>\n",
       "    </tr>\n",
       "    <tr>\n",
       "      <th>22</th>\n",
       "      <td>18365.387460</td>\n",
       "    </tr>\n",
       "  </tbody>\n",
       "</table>\n",
       "</div>"
      ],
      "text/plain": [
       "             views\n",
       "hour              \n",
       "6     21354.310115\n",
       "4     20678.389091\n",
       "7     19093.953408\n",
       "3     18370.017972\n",
       "22    18365.387460"
      ]
     },
     "execution_count": 17,
     "metadata": {},
     "output_type": "execute_result"
    }
   ],
   "source": [
    "df.groupby('hour')[['views']].mean().sort_values('views', ascending=False).head()"
   ]
  },
  {
   "cell_type": "code",
   "execution_count": 18,
   "metadata": {},
   "outputs": [
    {
     "data": {
      "text/plain": [
       "<matplotlib.axes._subplots.AxesSubplot at 0x111110390>"
      ]
     },
     "execution_count": 18,
     "metadata": {},
     "output_type": "execute_result"
    },
    {
     "data": {
      "image/png": "[encoded data removed]",
      "text/plain": [
       "<matplotlib.figure.Figure at 0x11037eda0>"
      ]
     },
     "metadata": {},
     "output_type": "display_data"
    }
   ],
   "source": [
    "df.groupby('hour')[['views']].mean().plot()"
   ]
  },
  {
   "cell_type": "code",
   "execution_count": 19,
   "metadata": {},
   "outputs": [
    {
     "name": "stdout",
     "output_type": "stream",
     "text": [
      "       comments\n",
      "hour           \n",
      "4     53.657273\n",
      "3     53.123877\n",
      "6     51.799618\n",
      "1     49.417910\n",
      "2     48.827025\n"
     ]
    },
    {
     "data": {
      "text/plain": [
       "<matplotlib.axes._subplots.AxesSubplot at 0x1103c4ef0>"
      ]
     },
     "execution_count": 19,
     "metadata": {},
     "output_type": "execute_result"
    },
    {
     "data": {
      "image/png": "[encoded data removed]",
      "text/plain": [
       "<matplotlib.figure.Figure at 0x11112bac8>"
      ]
     },
     "metadata": {},
     "output_type": "display_data"
    }
   ],
   "source": [
    "print(df.groupby('hour')[['comments']].mean().sort_values('comments', ascending=False).head())\n",
    "df.groupby('hour')[['comments']].mean().plot()"
   ]
  },
  {
   "cell_type": "code",
   "execution_count": 20,
   "metadata": {},
   "outputs": [
    {
     "data": {
      "text/plain": [
       "<matplotlib.axes._subplots.AxesSubplot at 0x1114328d0>"
      ]
     },
     "execution_count": 20,
     "metadata": {},
     "output_type": "execute_result"
    },
    {
     "data": {
      "image/png": "[encoded data removed]",
      "text/plain": [
       "<matplotlib.figure.Figure at 0x10fca7710>"
      ]
     },
     "metadata": {},
     "output_type": "display_data"
    }
   ],
   "source": [
    "sns.barplot(x ='hour', y='comments', data = df)"
   ]
  },
  {
   "cell_type": "code",
   "execution_count": 21,
   "metadata": {},
   "outputs": [
    {
     "data": {
      "text/html": [
       "<div>\n",
       "<table border=\"1\" class=\"dataframe\">\n",
       "  <thead>\n",
       "    <tr style=\"text-align: right;\">\n",
       "      <th></th>\n",
       "      <th>38763</th>\n",
       "      <th>65285</th>\n",
       "    </tr>\n",
       "  </thead>\n",
       "  <tbody>\n",
       "    <tr>\n",
       "      <th>url</th>\n",
       "      <td>https://geektimes.ru/post/123157/</td>\n",
       "      <td>https://geektimes.ru/post/171853/</td>\n",
       "    </tr>\n",
       "    <tr>\n",
       "      <th>domain</th>\n",
       "      <td>geektimes.ru</td>\n",
       "      <td>geektimes.ru</td>\n",
       "    </tr>\n",
       "    <tr>\n",
       "      <th>post_id</th>\n",
       "      <td>123157</td>\n",
       "      <td>171853</td>\n",
       "    </tr>\n",
       "    <tr>\n",
       "      <th>published</th>\n",
       "      <td>2011-07-01 02:35:00</td>\n",
       "      <td>2013-03-06 20:07:00</td>\n",
       "    </tr>\n",
       "    <tr>\n",
       "      <th>author</th>\n",
       "      <td>@Dottore</td>\n",
       "      <td>@vadimus</td>\n",
       "    </tr>\n",
       "    <tr>\n",
       "      <th>flow</th>\n",
       "      <td>NaN</td>\n",
       "      <td>NaN</td>\n",
       "    </tr>\n",
       "    <tr>\n",
       "      <th>polling</th>\n",
       "      <td>False</td>\n",
       "      <td>False</td>\n",
       "    </tr>\n",
       "    <tr>\n",
       "      <th>content_len</th>\n",
       "      <td>2158</td>\n",
       "      <td>2220</td>\n",
       "    </tr>\n",
       "    <tr>\n",
       "      <th>title</th>\n",
       "      <td>Как раздавать инвайты на Google+</td>\n",
       "      <td>Лучшие компьютерные игры всех времен и народов...</td>\n",
       "    </tr>\n",
       "    <tr>\n",
       "      <th>comments</th>\n",
       "      <td>2266</td>\n",
       "      <td>1887</td>\n",
       "    </tr>\n",
       "    <tr>\n",
       "      <th>favs</th>\n",
       "      <td>24</td>\n",
       "      <td>392</td>\n",
       "    </tr>\n",
       "    <tr>\n",
       "      <th>views</th>\n",
       "      <td>15300</td>\n",
       "      <td>160000</td>\n",
       "    </tr>\n",
       "    <tr>\n",
       "      <th>votes_plus</th>\n",
       "      <td>226</td>\n",
       "      <td>170</td>\n",
       "    </tr>\n",
       "    <tr>\n",
       "      <th>votes_minus</th>\n",
       "      <td>55</td>\n",
       "      <td>29</td>\n",
       "    </tr>\n",
       "    <tr>\n",
       "      <th>year</th>\n",
       "      <td>2011</td>\n",
       "      <td>2013</td>\n",
       "    </tr>\n",
       "    <tr>\n",
       "      <th>month</th>\n",
       "      <td>7</td>\n",
       "      <td>3</td>\n",
       "    </tr>\n",
       "    <tr>\n",
       "      <th>dayofweek</th>\n",
       "      <td>5</td>\n",
       "      <td>3</td>\n",
       "    </tr>\n",
       "    <tr>\n",
       "      <th>hour</th>\n",
       "      <td>2</td>\n",
       "      <td>20</td>\n",
       "    </tr>\n",
       "    <tr>\n",
       "      <th>day</th>\n",
       "      <td>1</td>\n",
       "      <td>6</td>\n",
       "    </tr>\n",
       "    <tr>\n",
       "      <th>mon_year</th>\n",
       "      <td>2011-07</td>\n",
       "      <td>2013-03</td>\n",
       "    </tr>\n",
       "  </tbody>\n",
       "</table>\n",
       "</div>"
      ],
      "text/plain": [
       "                                         38763  \\\n",
       "url          https://geektimes.ru/post/123157/   \n",
       "domain                            geektimes.ru   \n",
       "post_id                                 123157   \n",
       "published                  2011-07-01 02:35:00   \n",
       "author                                @Dottore   \n",
       "flow                                       NaN   \n",
       "polling                                  False   \n",
       "content_len                               2158   \n",
       "title         Как раздавать инвайты на Google+   \n",
       "comments                                  2266   \n",
       "favs                                        24   \n",
       "views                                    15300   \n",
       "votes_plus                                 226   \n",
       "votes_minus                                 55   \n",
       "year                                      2011   \n",
       "month                                        7   \n",
       "dayofweek                                    5   \n",
       "hour                                         2   \n",
       "day                                          1   \n",
       "mon_year                               2011-07   \n",
       "\n",
       "                                                         65285  \n",
       "url                          https://geektimes.ru/post/171853/  \n",
       "domain                                            geektimes.ru  \n",
       "post_id                                                 171853  \n",
       "published                                  2013-03-06 20:07:00  \n",
       "author                                                @vadimus  \n",
       "flow                                                       NaN  \n",
       "polling                                                  False  \n",
       "content_len                                               2220  \n",
       "title        Лучшие компьютерные игры всех времен и народов...  \n",
       "comments                                                  1887  \n",
       "favs                                                       392  \n",
       "views                                                   160000  \n",
       "votes_plus                                                 170  \n",
       "votes_minus                                                 29  \n",
       "year                                                      2013  \n",
       "month                                                        3  \n",
       "dayofweek                                                    3  \n",
       "hour                                                        20  \n",
       "day                                                          6  \n",
       "mon_year                                               2013-03  "
      ]
     },
     "execution_count": 21,
     "metadata": {},
     "output_type": "execute_result"
    }
   ],
   "source": [
    "df[df.domain == 'geektimes.ru'].sort_values('comments', ascending=False).head(2).T"
   ]
  },
  {
   "cell_type": "markdown",
   "metadata": {},
   "source": [
    "## Кого из топ-20 авторов чаще всего минусуют"
   ]
  },
  {
   "cell_type": "markdown",
   "metadata": {},
   "source": [
    "* @Mordatyj\n",
    "* **@Mithgol**\n",
    "* @alizar\n",
    "* @ilya42"
   ]
  },
  {
   "cell_type": "code",
   "execution_count": 22,
   "metadata": {},
   "outputs": [
    {
     "data": {
      "text/html": [
       "<div>\n",
       "<table border=\"1\" class=\"dataframe\">\n",
       "  <thead>\n",
       "    <tr style=\"text-align: right;\">\n",
       "      <th></th>\n",
       "      <th>votes_minus</th>\n",
       "    </tr>\n",
       "    <tr>\n",
       "      <th>author</th>\n",
       "      <th></th>\n",
       "    </tr>\n",
       "  </thead>\n",
       "  <tbody>\n",
       "    <tr>\n",
       "      <th>@Mithgol</th>\n",
       "      <td>20.481081</td>\n",
       "    </tr>\n",
       "    <tr>\n",
       "      <th>@XaocCPS</th>\n",
       "      <td>15.286913</td>\n",
       "    </tr>\n",
       "    <tr>\n",
       "      <th>@andorro</th>\n",
       "      <td>13.654676</td>\n",
       "    </tr>\n",
       "    <tr>\n",
       "      <th>@aleksandrit</th>\n",
       "      <td>9.974643</td>\n",
       "    </tr>\n",
       "    <tr>\n",
       "      <th>@Sterhel</th>\n",
       "      <td>9.350785</td>\n",
       "    </tr>\n",
       "    <tr>\n",
       "      <th>@alizar</th>\n",
       "      <td>7.928191</td>\n",
       "    </tr>\n",
       "    <tr>\n",
       "      <th>@Mordatyj</th>\n",
       "      <td>7.471455</td>\n",
       "    </tr>\n",
       "    <tr>\n",
       "      <th>@ilya42</th>\n",
       "      <td>6.216797</td>\n",
       "    </tr>\n",
       "    <tr>\n",
       "      <th>@Tylerskald</th>\n",
       "      <td>5.518519</td>\n",
       "    </tr>\n",
       "    <tr>\n",
       "      <th>@Shapelez</th>\n",
       "      <td>5.196998</td>\n",
       "    </tr>\n",
       "    <tr>\n",
       "      <th>@jeston</th>\n",
       "      <td>4.831917</td>\n",
       "    </tr>\n",
       "    <tr>\n",
       "      <th>@atomlib</th>\n",
       "      <td>4.407982</td>\n",
       "    </tr>\n",
       "    <tr>\n",
       "      <th>@SLY_G</th>\n",
       "      <td>4.276947</td>\n",
       "    </tr>\n",
       "    <tr>\n",
       "      <th>@ragequit</th>\n",
       "      <td>4.018018</td>\n",
       "    </tr>\n",
       "    <tr>\n",
       "      <th>@marks</th>\n",
       "      <td>3.834997</td>\n",
       "    </tr>\n",
       "    <tr>\n",
       "      <th>@ivansychev</th>\n",
       "      <td>2.498519</td>\n",
       "    </tr>\n",
       "    <tr>\n",
       "      <th>@lozga</th>\n",
       "      <td>2.420000</td>\n",
       "    </tr>\n",
       "    <tr>\n",
       "      <th>@jasiejames</th>\n",
       "      <td>1.516432</td>\n",
       "    </tr>\n",
       "    <tr>\n",
       "      <th>@semen_grinshtein</th>\n",
       "      <td>1.167378</td>\n",
       "    </tr>\n",
       "    <tr>\n",
       "      <th>@azazelis</th>\n",
       "      <td>0.801105</td>\n",
       "    </tr>\n",
       "  </tbody>\n",
       "</table>\n",
       "</div>"
      ],
      "text/plain": [
       "                   votes_minus\n",
       "author                        \n",
       "@Mithgol             20.481081\n",
       "@XaocCPS             15.286913\n",
       "@andorro             13.654676\n",
       "@aleksandrit          9.974643\n",
       "@Sterhel              9.350785\n",
       "@alizar               7.928191\n",
       "@Mordatyj             7.471455\n",
       "@ilya42               6.216797\n",
       "@Tylerskald           5.518519\n",
       "@Shapelez             5.196998\n",
       "@jeston               4.831917\n",
       "@atomlib              4.407982\n",
       "@SLY_G                4.276947\n",
       "@ragequit             4.018018\n",
       "@marks                3.834997\n",
       "@ivansychev           2.498519\n",
       "@lozga                2.420000\n",
       "@jasiejames           1.516432\n",
       "@semen_grinshtein     1.167378\n",
       "@azazelis             0.801105"
      ]
     },
     "execution_count": 22,
     "metadata": {},
     "output_type": "execute_result"
    }
   ],
   "source": [
    "top_20 = df.author.value_counts().index[:20]\n",
    "df[df.author.isin(top_20)].groupby('author')[['votes_minus']].mean().sort_values('votes_minus', ascending=False)"
   ]
  },
  {
   "cell_type": "markdown",
   "metadata": {},
   "source": [
    "# Сравните субботы и понедельники"
   ]
  },
  {
   "cell_type": "markdown",
   "metadata": {},
   "source": [
    "Правда ли, что по субботам авторы пишут в основном днём, а по понедельникам — в основном вечером? (**нет**)"
   ]
  },
  {
   "cell_type": "code",
   "execution_count": 23,
   "metadata": {},
   "outputs": [
    {
     "data": {
      "text/plain": [
       "<pandas.core.groupby.DataFrameGroupBy object at 0x1117d2358>"
      ]
     },
     "execution_count": 23,
     "metadata": {},
     "output_type": "execute_result"
    }
   ],
   "source": [
    "days = [1, 6]\n",
    "df_week = df[df.dayofweek.isin(days)]\n",
    "df_week.groupby('hour')"
   ]
  },
  {
   "cell_type": "code",
   "execution_count": 24,
   "metadata": {},
   "outputs": [
    {
     "data": {
      "text/plain": [
       "<matplotlib.axes._subplots.AxesSubplot at 0x111e0f8d0>"
      ]
     },
     "execution_count": 24,
     "metadata": {},
     "output_type": "execute_result"
    },
    {
     "data": {
      "image/png": "[encoded data removed]",
      "text/plain": [
       "<matplotlib.figure.Figure at 0x1110f8b00>"
      ]
     },
     "metadata": {},
     "output_type": "display_data"
    }
   ],
   "source": [
    "sns.countplot(x='hour', hue='dayofweek', data = df_week)"
   ]
  },
  {
   "cell_type": "code",
   "execution_count": 137,
   "metadata": {},
   "outputs": [],
   "source": [
    "d = {'l': 2375, 'd': 1200}\n",
    "df = pd.DataFrame(data=d, index = [1])\n",
    "df['total'] = df['d'] + df['l']"
   ]
  },
  {
   "cell_type": "code",
   "execution_count": 138,
   "metadata": {},
   "outputs": [
    {
     "data": {
      "text/html": [
       "<div>\n",
       "<table border=\"1\" class=\"dataframe\">\n",
       "  <thead>\n",
       "    <tr style=\"text-align: right;\">\n",
       "      <th></th>\n",
       "      <th>all</th>\n",
       "      <th>debt</th>\n",
       "      <th>category</th>\n",
       "    </tr>\n",
       "  </thead>\n",
       "  <tbody>\n",
       "    <tr>\n",
       "      <th>d</th>\n",
       "      <td>1200.0</td>\n",
       "      <td>587.5</td>\n",
       "      <td>d</td>\n",
       "    </tr>\n",
       "    <tr>\n",
       "      <th>l</th>\n",
       "      <td>2375.0</td>\n",
       "      <td>-587.5</td>\n",
       "      <td>l</td>\n",
       "    </tr>\n",
       "    <tr>\n",
       "      <th>total</th>\n",
       "      <td>3575.0</td>\n",
       "      <td>0.0</td>\n",
       "      <td>total</td>\n",
       "    </tr>\n",
       "  </tbody>\n",
       "</table>\n",
       "</div>"
      ],
      "text/plain": [
       "          all   debt category\n",
       "d      1200.0  587.5        d\n",
       "l      2375.0 -587.5        l\n",
       "total  3575.0    0.0    total"
      ]
     },
     "execution_count": 138,
     "metadata": {},
     "output_type": "execute_result"
    }
   ],
   "source": [
    "df = df.append(pd.DataFrame([[df['total'][1]/2 - df['d'][1], df['total'][1]/2 - df['l'][1], 0]], \n",
    "                            columns = ['d', 'l', 'total']), ignore_index=True)\n",
    "df = df.rename(index = {0:'all', 1:'debt'})\n",
    "df = df.T\n",
    "df['category'] = ['d', 'l', 'total']\n",
    "df"
   ]
  },
  {
   "cell_type": "code",
   "execution_count": 139,
   "metadata": {},
   "outputs": [
    {
     "data": {
      "text/html": [
       "<div>\n",
       "<table border=\"1\" class=\"dataframe\">\n",
       "  <thead>\n",
       "    <tr style=\"text-align: right;\">\n",
       "      <th></th>\n",
       "      <th>category</th>\n",
       "      <th>name</th>\n",
       "      <th>total</th>\n",
       "    </tr>\n",
       "  </thead>\n",
       "  <tbody>\n",
       "    <tr>\n",
       "      <th>0</th>\n",
       "      <td>spend</td>\n",
       "      <td>l</td>\n",
       "      <td>2375</td>\n",
       "    </tr>\n",
       "    <tr>\n",
       "      <th>1</th>\n",
       "      <td>spend</td>\n",
       "      <td>d</td>\n",
       "      <td>1200</td>\n",
       "    </tr>\n",
       "  </tbody>\n",
       "</table>\n",
       "</div>"
      ],
      "text/plain": [
       "  category name  total\n",
       "0    spend    l   2375\n",
       "1    spend    d   1200"
      ]
     },
     "execution_count": 139,
     "metadata": {},
     "output_type": "execute_result"
    }
   ],
   "source": [
    "d = {'total': [2375, 1200], 'name': ['l', 'd'], 'category':['spend', 'spend']}\n",
    "df = pd.DataFrame(data=d, index = [0, 1])\n",
    "df"
   ]
  },
  {
   "cell_type": "code",
   "execution_count": 140,
   "metadata": {},
   "outputs": [
    {
     "data": {
      "text/html": [
       "<div>\n",
       "<table border=\"1\" class=\"dataframe\">\n",
       "  <thead>\n",
       "    <tr style=\"text-align: right;\">\n",
       "      <th></th>\n",
       "      <th>category</th>\n",
       "      <th>name</th>\n",
       "      <th>total</th>\n",
       "    </tr>\n",
       "  </thead>\n",
       "  <tbody>\n",
       "    <tr>\n",
       "      <th>0</th>\n",
       "      <td>spend</td>\n",
       "      <td>l</td>\n",
       "      <td>2375.0</td>\n",
       "    </tr>\n",
       "    <tr>\n",
       "      <th>1</th>\n",
       "      <td>spend</td>\n",
       "      <td>d</td>\n",
       "      <td>1200.0</td>\n",
       "    </tr>\n",
       "    <tr>\n",
       "      <th>0</th>\n",
       "      <td>debt</td>\n",
       "      <td>l</td>\n",
       "      <td>-587.5</td>\n",
       "    </tr>\n",
       "    <tr>\n",
       "      <th>1</th>\n",
       "      <td>debt</td>\n",
       "      <td>d</td>\n",
       "      <td>587.5</td>\n",
       "    </tr>\n",
       "  </tbody>\n",
       "</table>\n",
       "</div>"
      ],
      "text/plain": [
       "  category name   total\n",
       "0    spend    l  2375.0\n",
       "1    spend    d  1200.0\n",
       "0     debt    l  -587.5\n",
       "1     debt    d   587.5"
      ]
     },
     "execution_count": 140,
     "metadata": {},
     "output_type": "execute_result"
    }
   ],
   "source": [
    "d = {'total':[sum(df['total'])/2 -df['total'][0], sum(df['total'])/2 -df['total'][1]], \n",
    "     'name':['l', 'd'], 'category':['debt', 'debt']}\n",
    "df = df.append(pd.DataFrame(d))\n",
    "df"
   ]
  },
  {
   "cell_type": "code",
   "execution_count": 141,
   "metadata": {},
   "outputs": [
    {
     "data": {
      "text/plain": [
       "<matplotlib.axes._subplots.AxesSubplot at 0x11845ccf8>"
      ]
     },
     "execution_count": 141,
     "metadata": {},
     "output_type": "execute_result"
    },
    {
     "data": {
      "image/png": "[encoded data removed]",
      "text/plain": [
       "<matplotlib.figure.Figure at 0x118364438>"
      ]
     },
     "metadata": {},
     "output_type": "display_data"
    }
   ],
   "source": [
    "s = sns.barplot(data = df, x = 'category', y = 'total', hue = 'name', palette=\"Set3\", \n",
    "            edgecolor=sns.color_palette(\"dark\", 3))\n",
    "s"
   ]
  },
  {
   "cell_type": "code",
   "execution_count": 142,
   "metadata": {},
   "outputs": [
    {
     "data": {
      "text/html": [
       "<script>requirejs.config({paths: { 'plotly': ['https://cdn.plot.ly/plotly-latest.min']},});if(!window.Plotly) {{require(['plotly'],function(plotly) {window.Plotly=plotly;});}}</script>"
      ],
      "text/vnd.plotly.v1+html": [
       "<script>requirejs.config({paths: { 'plotly': ['https://cdn.plot.ly/plotly-latest.min']},});if(!window.Plotly) {{require(['plotly'],function(plotly) {window.Plotly=plotly;});}}</script>"
      ]
     },
     "metadata": {},
     "output_type": "display_data"
    }
   ],
   "source": [
    "from plotly.offline import download_plotlyjs, init_notebook_mode, plot, iplot\n",
    "import plotly\n",
    "import plotly.graph_objs as go\n",
    "\n",
    "init_notebook_mode(connected=True)"
   ]
  },
  {
   "cell_type": "code",
   "execution_count": 143,
   "metadata": {},
   "outputs": [],
   "source": [
    "trace0 = go.Bar(x = ['spend', 'debt'], y = [2375, -587.5], name = 'l')\n",
    "trace1 = go.Bar(x = ['spend', 'debt'], y = [1200, 587.5], name = 'd')\n",
    "data = [trace0, trace1]\n",
    "layout = {'title': 'Fuck fuck', 'xaxis': {'title': 'type'}}"
   ]
  },
  {
   "cell_type": "code",
   "execution_count": 144,
   "metadata": {},
   "outputs": [
    {
     "data": {
      "application/vnd.plotly.v1+json": {
       "data": [
        {
         "name": "l",
         "type": "bar",
         "x": [
          "spend",
          "debt"
         ],
         "y": [
          2375,
          -587.5
         ]
        },
        {
         "name": "d",
         "type": "bar",
         "x": [
          "spend",
          "debt"
         ],
         "y": [
          1200,
          587.5
         ]
        }
       ],
       "layout": {
        "title": "Fuck fuck",
        "xaxis": {
         "title": "type"
        }
       }
      },
      "text/html": [
       "<div id=\"5a58d341-9999-4b92-aa5d-f2860ae5d8cc\" style=\"height: 525px; width: 100%;\" class=\"plotly-graph-div\"></div><script type=\"text/javascript\">require([\"plotly\"], function(Plotly) { window.PLOTLYENV=window.PLOTLYENV || {};window.PLOTLYENV.BASE_URL=\"https://plot.ly\";Plotly.newPlot(\"5a58d341-9999-4b92-aa5d-f2860ae5d8cc\", [{\"type\": \"bar\", \"x\": [\"spend\", \"debt\"], \"y\": [2375, -587.5], \"name\": \"l\"}, {\"type\": \"bar\", \"x\": [\"spend\", \"debt\"], \"y\": [1200, 587.5], \"name\": \"d\"}], {\"title\": \"Fuck fuck\", \"xaxis\": {\"title\": \"type\"}}, {\"showLink\": false, \"linkText\": \"Export to plot.ly\"})});</script>"
      ],
      "text/vnd.plotly.v1+html": [
       "<div id=\"5a58d341-9999-4b92-aa5d-f2860ae5d8cc\" style=\"height: 525px; width: 100%;\" class=\"plotly-graph-div\"></div><script type=\"text/javascript\">require([\"plotly\"], function(Plotly) { window.PLOTLYENV=window.PLOTLYENV || {};window.PLOTLYENV.BASE_URL=\"https://plot.ly\";Plotly.newPlot(\"5a58d341-9999-4b92-aa5d-f2860ae5d8cc\", [{\"type\": \"bar\", \"x\": [\"spend\", \"debt\"], \"y\": [2375, -587.5], \"name\": \"l\"}, {\"type\": \"bar\", \"x\": [\"spend\", \"debt\"], \"y\": [1200, 587.5], \"name\": \"d\"}], {\"title\": \"Fuck fuck\", \"xaxis\": {\"title\": \"type\"}}, {\"showLink\": false, \"linkText\": \"Export to plot.ly\"})});</script>"
      ]
     },
     "metadata": {},
     "output_type": "display_data"
    }
   ],
   "source": [
    "fig = go.Figure(data=data, layout=layout)\n",
    "iplot(fig, show_link=False)"
   ]
  },
  {
   "cell_type": "code",
   "execution_count": 145,
   "metadata": {},
   "outputs": [
    {
     "data": {
      "text/plain": [
       "<matplotlib.axes._subplots.AxesSubplot at 0x1183649b0>"
      ]
     },
     "execution_count": 145,
     "metadata": {},
     "output_type": "execute_result"
    },
    {
     "data": {
      "image/png": "[encoded data removed]",
      "text/plain": [
       "<matplotlib.figure.Figure at 0x11823c588>"
      ]
     },
     "metadata": {},
     "output_type": "display_data"
    }
   ],
   "source": [
    "s = sns.barplot(data = df, x = 'category', y = 'total', hue = 'name', palette=\"Set3\", \n",
    "            edgecolor=sns.color_palette(\"dark\", 3))\n",
    "s"
   ]
  },
  {
   "cell_type": "code",
   "execution_count": 146,
   "metadata": {},
   "outputs": [
    {
     "data": {
      "text/html": [
       "<div>\n",
       "<table border=\"1\" class=\"dataframe\">\n",
       "  <thead>\n",
       "    <tr style=\"text-align: right;\">\n",
       "      <th></th>\n",
       "      <th>category</th>\n",
       "      <th>name</th>\n",
       "      <th>total</th>\n",
       "    </tr>\n",
       "  </thead>\n",
       "  <tbody>\n",
       "    <tr>\n",
       "      <th>0</th>\n",
       "      <td>spend</td>\n",
       "      <td>l</td>\n",
       "      <td>2375.0</td>\n",
       "    </tr>\n",
       "    <tr>\n",
       "      <th>1</th>\n",
       "      <td>spend</td>\n",
       "      <td>d</td>\n",
       "      <td>1200.0</td>\n",
       "    </tr>\n",
       "    <tr>\n",
       "      <th>0</th>\n",
       "      <td>debt</td>\n",
       "      <td>l</td>\n",
       "      <td>-587.5</td>\n",
       "    </tr>\n",
       "    <tr>\n",
       "      <th>1</th>\n",
       "      <td>debt</td>\n",
       "      <td>d</td>\n",
       "      <td>587.5</td>\n",
       "    </tr>\n",
       "  </tbody>\n",
       "</table>\n",
       "</div>"
      ],
      "text/plain": [
       "  category name   total\n",
       "0    spend    l  2375.0\n",
       "1    spend    d  1200.0\n",
       "0     debt    l  -587.5\n",
       "1     debt    d   587.5"
      ]
     },
     "execution_count": 146,
     "metadata": {},
     "output_type": "execute_result"
    }
   ],
   "source": [
    "df"
   ]
  },
  {
   "cell_type": "code",
   "execution_count": null,
   "metadata": {
    "collapsed": true
   },
   "outputs": [],
   "source": []
  },
  {
   "cell_type": "code",
   "execution_count": null,
   "metadata": {
    "collapsed": true
   },
   "outputs": [],
   "source": [
    "––"
   ]
  }
 ],
 "metadata": {
  "kernelspec": {
   "display_name": "Python 3",
   "language": "python",
   "name": "python3"
  },
  "language_info": {
   "codemirror_mode": {
    "name": "ipython",
    "version": 3
   },
   "file_extension": ".py",
   "mimetype": "text/x-python",
   "name": "python",
   "nbconvert_exporter": "python",
   "pygments_lexer": "ipython3",
   "version": "3.6.1"
  }
 },
 "nbformat": 4,
 "nbformat_minor": 2
}
